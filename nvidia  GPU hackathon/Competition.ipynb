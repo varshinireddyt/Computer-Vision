{
 "cells": [
  {
   "cell_type": "markdown",
   "metadata": {},
   "source": [
    "&emsp;&emsp;&emsp;&emsp;&emsp;\n",
    "&emsp;&emsp;&emsp;&emsp;&emsp;\n",
    "&emsp;&emsp;&emsp;&emsp;&emsp;\n",
    "&emsp;&emsp;&emsp;&emsp;&emsp;\n",
    "&emsp;&emsp;&emsp;&emsp;&emsp;\n",
    "&emsp;&emsp;&ensp;\n",
    "[Home Page](../Start_Here.ipynb)\n",
    "\n",
    "\n",
    "[Previous Notebook](Manipulation_of_Image_Data_and_Category_Determination_using_Text_Data.ipynb)\n",
    "&emsp;&emsp;&emsp;&emsp;&emsp;\n",
    "&emsp;&emsp;&emsp;&emsp;&emsp;\n",
    "&emsp;&emsp;&emsp;&emsp;&emsp;\n",
    "&emsp;&emsp;&emsp;&emsp;&emsp;\n",
    "[1](The_Problem_Statement.ipynb)\n",
    "[2](Approach_to_the_Problem_&_Inspecting_and_Cleaning_the_Required_Data.ipynb)\n",
    "[3](Manipulation_of_Image_Data_and_Category_Determination_using_Text_Data.ipynb)\n",
    "[4](Countering_Data_Imbalance.ipynb)\n",
    "[5]\n",
    "&emsp;&emsp;&emsp;&emsp;&emsp;\n",
    "&emsp;&emsp;&emsp;&emsp;&emsp;\n",
    "&emsp;&emsp;&emsp;&emsp;&emsp;\n",
    "&emsp;&emsp;&emsp;&emsp;&emsp;\n"
   ]
  },
  {
   "cell_type": "markdown",
   "metadata": {},
   "source": [
    "# Competition :\n",
    "\n",
    "In this exercise participant need to tune and work on improving overall acuracy of our model. \n",
    "\n",
    "To help you get started by pointing out some obvious ways in which you can make the model more efficient. \n",
    "\n",
    "- Epochs  \n",
    "- Batch Size \n",
    "- Optimizers : We have used SGD as a optimizer. Participant can try applying other optimizer and test to obtain quick convergence.\n",
    "- Data Augmentation : Remember, we mentioned we have an imbalanced dataset. You could try differnet augmentation techniques for the minority classes.\n",
    "- Model : If you have exploited all the bbove methods to improve your model, you can change the model by adding more Layers to it and see if that improves that accuracy.\n",
    "\n",
    "Note, before you start tweaking and training your model ,it would be worthwhile to refer to these to see how they affect your model : \n",
    "\n",
    "[Epochs impact on Overfitting](https://datascience.stackexchange.com/questions/27561/can-the-number-of-epochs-influence-overfitting ) \n",
    "\n",
    "\n",
    "[Effect of Batch Size on Training Dynamics](https://medium.com/mini-distill/effect-of-batch-size-on-training-dynamics-21c14f7a716e)\n",
    "\n",
    "[Introduction to Optimizers](https://algorithmia.com/blog/introduction-to-optimizers)"
   ]
  },
  {
   "cell_type": "markdown",
   "metadata": {},
   "source": [
    "# Training the Model with Data Augmentation : \n",
    "\n",
    "\n",
    "We created a new function called `augmentation(name,category,filenames,labels,i)` and here you can add more samples to Category which have imbalanced data.  "
   ]
  },
  {
   "cell_type": "code",
   "execution_count": 1,
   "metadata": {},
   "outputs": [],
   "source": [
    "import sys\n",
    "sys.path.append('/workspace/python/source_code')\n",
    "\n",
    "from utils import * \n",
    "import os\n",
    "os.environ[\"CUDA_VISIBLE_DEVICES\"]=\"0\"\n",
    "\n",
    "def augmentation(name,category,filenames,labels,i):\n",
    "    # Important Constants\n",
    "    file_path = \"Dataset/Aug/\"\n",
    "    images = []\n",
    "    (h, w) = (232,232)\n",
    "    center = (w / 2, h / 2)\n",
    "    angle90 = 90\n",
    "    angle180 = 180\n",
    "    angle270 = 270\n",
    "    scale = 1.0\n",
    "    img = load_image(name , interpolation = cv2.INTER_LINEAR)\n",
    "    \n",
    "    ## ~~ Add Augmentations here  ~~\n",
    "    if category == 0 :\n",
    "        images.append(cv2.flip(img,0))\n",
    "    elif category == 1 :\n",
    "        pass\n",
    "    elif category == 2 :\n",
    "        pass\n",
    "    elif category == 3 :\n",
    "        pass\n",
    "    elif category == 4 :\n",
    "        pass\n",
    "    elif category == 5 :\n",
    "        pass\n",
    "    elif category == 6 :\n",
    "        pass\n",
    "    elif category == 7 :\n",
    "        images.append(cv2.flip(img,0))\n",
    "        \n",
    "    ## ~~ Augmentation ends here ~~\n",
    "    for j in range(len(images)):\n",
    "        cv2.imwrite(file_path+str(i+j)+'.jpeg',images[j])\n",
    "        filenames.append(file_path+str(i+j)+'.jpeg')\n",
    "        labels.append(category)\n",
    "    i = i + len(images)\n",
    "    return i"
   ]
  },
  {
   "cell_type": "markdown",
   "metadata": {},
   "source": [
    "##### We pass this function to our `load_dataset()` function to generate these augmentations. \n",
    "\n",
    "Kindly wait for a couple of minutes while it takes to augment the images."
   ]
  },
  {
   "cell_type": "code",
   "execution_count": 2,
   "metadata": {
    "scrolled": true
   },
   "outputs": [
    {
     "name": "stdout",
     "output_type": "stream",
     "text": [
      "................................\n",
      "28574\n"
     ]
    }
   ],
   "source": [
    "filenames,labels = load_dataset(augment_fn = augmentation)"
   ]
  },
  {
   "cell_type": "code",
   "execution_count": 3,
   "metadata": {},
   "outputs": [
    {
     "name": "stdout",
     "output_type": "stream",
     "text": [
      "[357, 357, 357, 357, 357, 357, 357, 357]\n",
      "Counter({2: 7923, 3: 5326, 1: 3790, 4: 2921, 5: 2323, 6: 2165, 7: 739, 0: 531})\n"
     ]
    }
   ],
   "source": [
    "# Set the Size of the Validation set\n",
    "val_filenames , val_labels = make_test_set(filenames,labels,val=0.1)"
   ]
  },
  {
   "cell_type": "code",
   "execution_count": 4,
   "metadata": {},
   "outputs": [],
   "source": [
    "#Make train test set \n",
    "test = 0.1\n",
    "from sklearn.model_selection import train_test_split\n",
    "x_train, x_test, y_train, y_test = train_test_split(filenames, labels, test_size=test, random_state=1)"
   ]
  },
  {
   "cell_type": "code",
   "execution_count": 5,
   "metadata": {},
   "outputs": [],
   "source": [
    "import tensorflow as tf\n",
    "y_train = tf.one_hot(y_train,depth=8)\n",
    "y_test = tf.one_hot(y_test,depth=8)\n",
    "val_labels = tf.one_hot(val_labels,depth=8)"
   ]
  },
  {
   "cell_type": "code",
   "execution_count": 6,
   "metadata": {},
   "outputs": [],
   "source": [
    "# Make Dataset compatible with Tensorflow Data Pipelining.\n",
    "\n",
    "# ~~ Change the batch Size here ~~\n",
    "batch_size = 64\n",
    "# ~~ Change the batch Size here ~~\n",
    "\n",
    "train,test,val = make_dataset((x_train,y_train,batch_size),(x_test,y_test,32),(val_filenames,val_labels,32))"
   ]
  },
  {
   "cell_type": "markdown",
   "metadata": {},
   "source": [
    "# Model Architecture :\n",
    "\n"
   ]
  },
  {
   "cell_type": "code",
   "execution_count": 7,
   "metadata": {},
   "outputs": [
    {
     "name": "stdout",
     "output_type": "stream",
     "text": [
      "Model: \"sequential\"\n",
      "_________________________________________________________________\n",
      "Layer (type)                 Output Shape              Param #   \n",
      "=================================================================\n",
      "conv2d (Conv2D)              (None, 75, 75, 64)        19264     \n",
      "_________________________________________________________________\n",
      "max_pooling2d (MaxPooling2D) (None, 37, 37, 64)        0         \n",
      "_________________________________________________________________\n",
      "conv2d_1 (Conv2D)            (None, 33, 33, 256)       409856    \n",
      "_________________________________________________________________\n",
      "max_pooling2d_1 (MaxPooling2 (None, 16, 16, 256)       0         \n",
      "_________________________________________________________________\n",
      "conv2d_2 (Conv2D)            (None, 16, 16, 288)       663840    \n",
      "_________________________________________________________________\n",
      "max_pooling2d_2 (MaxPooling2 (None, 15, 15, 288)       0         \n",
      "_________________________________________________________________\n",
      "conv2d_3 (Conv2D)            (None, 15, 15, 272)       705296    \n",
      "_________________________________________________________________\n",
      "conv2d_4 (Conv2D)            (None, 13, 13, 256)       626944    \n",
      "_________________________________________________________________\n",
      "max_pooling2d_3 (MaxPooling2 (None, 6, 6, 256)         0         \n",
      "_________________________________________________________________\n",
      "dropout (Dropout)            (None, 6, 6, 256)         0         \n",
      "_________________________________________________________________\n",
      "flatten (Flatten)            (None, 9216)              0         \n",
      "_________________________________________________________________\n",
      "dense (Dense)                (None, 3584)              33033728  \n",
      "_________________________________________________________________\n",
      "dense_1 (Dense)              (None, 2048)              7342080   \n",
      "_________________________________________________________________\n",
      "dense_2 (Dense)              (None, 8)                 16392     \n",
      "=================================================================\n",
      "Total params: 42,817,400\n",
      "Trainable params: 42,817,400\n",
      "Non-trainable params: 0\n",
      "_________________________________________________________________\n"
     ]
    }
   ],
   "source": [
    "import numpy as np\n",
    "np.random.seed(1337)\n",
    "\n",
    "import tensorflow.keras\n",
    "from tensorflow.keras.models import Sequential\n",
    "from tensorflow.keras.layers import Dense, Conv2D, Flatten ,Dropout, MaxPooling2D\n",
    "from tensorflow.keras import backend as K \n",
    "\n",
    "#Reset Graphs and Create Sequential model\n",
    "\n",
    "K.clear_session()\n",
    "model = Sequential()\n",
    "\n",
    "## ~~ Change Model or Parameters Here\n",
    "#Convolution Layers\n",
    "\n",
    "model.add(Conv2D(64, kernel_size=10,strides=3, activation='relu', input_shape=(232,232,3)))\n",
    "model.add(MaxPooling2D(pool_size=(3, 3),strides=2))\n",
    "model.add(Conv2D(256, kernel_size=5,strides=1,activation='relu'))\n",
    "model.add(MaxPooling2D(pool_size=(3, 3),strides=2))\n",
    "model.add(Conv2D(288, kernel_size=3,strides=1,padding='same',activation='relu'))\n",
    "model.add(MaxPooling2D(pool_size=(2, 2),strides=1))\n",
    "model.add(Conv2D(272, kernel_size=3,strides=1,padding='same',activation='relu'))\n",
    "model.add(Conv2D(256, kernel_size=3,strides=1,activation='relu'))\n",
    "model.add(MaxPooling2D(pool_size=(3, 3),strides=2))\n",
    "model.add(Dropout(0.5))\n",
    "model.add(Flatten())\n",
    "\n",
    "#Linear Layers \n",
    "\n",
    "model.add(Dense(3584,activation='relu'))\n",
    "model.add(Dense(2048,activation='relu'))\n",
    "model.add(Dense(8, activation='softmax'))\n",
    "\n",
    "\n",
    "## ~~ Change Model or Parameters Here\n",
    "\n",
    "# Print Model Summary\n",
    "\n",
    "model.summary()"
   ]
  },
  {
   "cell_type": "code",
   "execution_count": 8,
   "metadata": {},
   "outputs": [
    {
     "name": "stdout",
     "output_type": "stream",
     "text": [
      "Epoch 1/24\n",
      "362/362 [==============================] - 577s 2s/step - loss: 1.8228 - accuracy: 0.3074 - top2_acc: 0.5146 - val_loss: 0.0000e+00 - val_accuracy: 0.0000e+00 - val_top2_acc: 0.0000e+00\n",
      "Epoch 2/24\n",
      "362/362 [==============================] - 381s 1s/step - loss: 1.5392 - accuracy: 0.3852 - top2_acc: 0.6414 - val_loss: 1.7288 - val_accuracy: 0.3326 - val_top2_acc: 0.5196\n",
      "Epoch 3/24\n",
      "362/362 [==============================] - 383s 1s/step - loss: 1.3738 - accuracy: 0.4431 - top2_acc: 0.6983 - val_loss: 1.3537 - val_accuracy: 0.4618 - val_top2_acc: 0.6828\n",
      "Epoch 4/24\n",
      "362/362 [==============================] - 283s 780ms/step - loss: 1.2274 - accuracy: 0.5094 - top2_acc: 0.7546 - val_loss: 1.1414 - val_accuracy: 0.5529 - val_top2_acc: 0.7707\n",
      "Epoch 5/24\n",
      "362/362 [==============================] - 206s 570ms/step - loss: 1.0976 - accuracy: 0.5667 - top2_acc: 0.7956 - val_loss: 1.0498 - val_accuracy: 0.5991 - val_top2_acc: 0.8011\n",
      "Epoch 6/24\n",
      "362/362 [==============================] - 111s 306ms/step - loss: 0.9689 - accuracy: 0.6243 - top2_acc: 0.8351 - val_loss: 0.8487 - val_accuracy: 0.6793 - val_top2_acc: 0.8659\n",
      "Epoch 7/24\n",
      "362/362 [==============================] - 104s 289ms/step - loss: 0.8463 - accuracy: 0.6761 - top2_acc: 0.8705 - val_loss: 0.6349 - val_accuracy: 0.7826 - val_top2_acc: 0.9058\n",
      "Epoch 8/24\n",
      "362/362 [==============================] - 105s 290ms/step - loss: 0.7182 - accuracy: 0.7308 - top2_acc: 0.8983 - val_loss: 0.5771 - val_accuracy: 0.7875 - val_top2_acc: 0.9272\n",
      "Epoch 9/24\n",
      "362/362 [==============================] - 101s 279ms/step - loss: 0.6135 - accuracy: 0.7733 - top2_acc: 0.9240 - val_loss: 0.4406 - val_accuracy: 0.8417 - val_top2_acc: 0.9468\n",
      "Epoch 10/24\n",
      "362/362 [==============================] - 101s 279ms/step - loss: 0.5065 - accuracy: 0.8144 - top2_acc: 0.9421 - val_loss: 0.3829 - val_accuracy: 0.8666 - val_top2_acc: 0.9573\n",
      "Epoch 11/24\n",
      "362/362 [==============================] - 101s 278ms/step - loss: 0.4328 - accuracy: 0.8422 - top2_acc: 0.9564 - val_loss: 0.2832 - val_accuracy: 0.9048 - val_top2_acc: 0.9755\n",
      "Epoch 12/24\n",
      "362/362 [==============================] - 102s 282ms/step - loss: 0.3670 - accuracy: 0.8675 - top2_acc: 0.9639 - val_loss: 0.2523 - val_accuracy: 0.9146 - val_top2_acc: 0.9779\n",
      "Epoch 13/24\n",
      "362/362 [==============================] - 98s 272ms/step - loss: 0.3171 - accuracy: 0.8832 - top2_acc: 0.9727 - val_loss: 0.2330 - val_accuracy: 0.9212 - val_top2_acc: 0.9776\n",
      "Epoch 14/24\n",
      "362/362 [==============================] - 102s 282ms/step - loss: 0.2712 - accuracy: 0.9024 - top2_acc: 0.9780 - val_loss: 0.1697 - val_accuracy: 0.9461 - val_top2_acc: 0.9877\n",
      "Epoch 15/24\n",
      "362/362 [==============================] - 102s 281ms/step - loss: 0.2329 - accuracy: 0.9161 - top2_acc: 0.9835 - val_loss: 0.1697 - val_accuracy: 0.9426 - val_top2_acc: 0.9905\n",
      "Epoch 16/24\n",
      "362/362 [==============================] - 105s 291ms/step - loss: 0.2062 - accuracy: 0.9266 - top2_acc: 0.9868 - val_loss: 0.1690 - val_accuracy: 0.9450 - val_top2_acc: 0.9884\n",
      "Epoch 17/24\n",
      "362/362 [==============================] - 100s 277ms/step - loss: 0.1847 - accuracy: 0.9340 - top2_acc: 0.9892 - val_loss: 0.1182 - val_accuracy: 0.9615 - val_top2_acc: 0.9926\n",
      "Epoch 18/24\n",
      "362/362 [==============================] - 104s 286ms/step - loss: 0.1547 - accuracy: 0.9459 - top2_acc: 0.9926 - val_loss: 0.1229 - val_accuracy: 0.9566 - val_top2_acc: 0.9923\n",
      "Epoch 19/24\n",
      "362/362 [==============================] - 94s 259ms/step - loss: 0.1523 - accuracy: 0.9462 - top2_acc: 0.9914 - val_loss: 0.1142 - val_accuracy: 0.9629 - val_top2_acc: 0.9912\n",
      "Epoch 20/24\n",
      "362/362 [==============================] - 97s 269ms/step - loss: 0.1270 - accuracy: 0.9550 - top2_acc: 0.9948 - val_loss: 0.1288 - val_accuracy: 0.9587 - val_top2_acc: 0.9923\n",
      "Epoch 21/24\n",
      "362/362 [==============================] - 99s 274ms/step - loss: 0.1199 - accuracy: 0.9580 - top2_acc: 0.9955 - val_loss: 0.0910 - val_accuracy: 0.9720 - val_top2_acc: 0.9961\n",
      "Epoch 22/24\n",
      "362/362 [==============================] - 101s 279ms/step - loss: 0.1065 - accuracy: 0.9625 - top2_acc: 0.9952 - val_loss: 0.0894 - val_accuracy: 0.9699 - val_top2_acc: 0.9961\n",
      "Epoch 23/24\n",
      "362/362 [==============================] - 97s 268ms/step - loss: 0.1029 - accuracy: 0.9634 - top2_acc: 0.9957 - val_loss: 0.1012 - val_accuracy: 0.9685 - val_top2_acc: 0.9947\n",
      "Epoch 24/24\n",
      "362/362 [==============================] - 101s 279ms/step - loss: 0.0938 - accuracy: 0.9677 - top2_acc: 0.9968 - val_loss: 0.0951 - val_accuracy: 0.9713 - val_top2_acc: 0.9982\n",
      "Test loss: 0.09330567496506796\n",
      "Test accuracy: 0.9708398\n"
     ]
    }
   ],
   "source": [
    "import functools\n",
    "\n",
    "#Define Number of Epochs\n",
    "\n",
    "## ~~ Change Number of Epochs Here ~~\n",
    "epochs = 24\n",
    "## ~~ Change Number of Epochs Here ~~\n",
    "\n",
    "\n",
    "# Include Top-2 Accuracy Metrics \n",
    "top2_acc = functools.partial(tensorflow.keras.metrics.top_k_categorical_accuracy, k=2)\n",
    "top2_acc.__name__ = 'top2_acc'\n",
    "\n",
    "\n",
    "## ~~ Change Optimizer or Parameters Here\n",
    "# Optimizer\n",
    "sgd = tensorflow.keras.optimizers.SGD(lr=0.001, decay=1e-6, momentum=0.9)\n",
    "## ~~ Change Optimizer or Parameters Here\n",
    "\n",
    "#Compile Model with Loss Function , Optimizer and Metrics\n",
    "model.compile(loss=tensorflow.keras.losses.categorical_crossentropy, \n",
    "              optimizer=sgd,\n",
    "              metrics=['accuracy',top2_acc])\n",
    "\n",
    "# Train the Model \n",
    "trained_model = model.fit(train,\n",
    "          epochs=epochs,\n",
    "          verbose=1,\n",
    "          validation_data=val)\n",
    "\n",
    "# Test Model Aganist Validation Set\n",
    "score = model.evaluate(test, verbose=0)\n",
    "print('Test loss:', score[0])\n",
    "print('Test accuracy:', score[1])"
   ]
  },
  {
   "cell_type": "markdown",
   "metadata": {},
   "source": [
    "### Visualisations"
   ]
  },
  {
   "cell_type": "code",
   "execution_count": 9,
   "metadata": {},
   "outputs": [
    {
     "data": {
      "image/png": "[encoded data removed]",
      "text/plain": [
       "<Figure size 1080x360 with 2 Axes>"
      ]
     },
     "metadata": {
      "needs_background": "light"
     },
     "output_type": "display_data"
    }
   ],
   "source": [
    "import matplotlib.pyplot as plt\n",
    "f = plt.figure(figsize=(15,5))\n",
    "ax = f.add_subplot(121)\n",
    "ax.plot(trained_model.history['accuracy'])\n",
    "ax.plot(trained_model.history['val_accuracy'])\n",
    "ax.set_title('Model Accuracy')\n",
    "ax.set_ylabel('Accuracy')\n",
    "ax.set_xlabel('Epoch')\n",
    "ax.legend(['Train', 'Val'])\n",
    "\n",
    "ax2 = f.add_subplot(122)\n",
    "ax2.plot(trained_model.history['loss'])\n",
    "ax2.plot(trained_model.history['val_loss'])\n",
    "ax2.set_title('Model Loss')\n",
    "ax2.set_ylabel('Loss')\n",
    "ax2.set_xlabel('Epoch')\n",
    "ax2.legend(['Train', 'Val'],loc= 'upper left')\n",
    "\n",
    "plt.show()"
   ]
  },
  {
   "cell_type": "code",
   "execution_count": 10,
   "metadata": {},
   "outputs": [
    {
     "data": {
      "text/plain": [
       "<AxesSubplot:>"
      ]
     },
     "execution_count": 10,
     "metadata": {},
     "output_type": "execute_result"
    },
    {
     "data": {
      "image/png": "[encoded data removed]",
      "text/plain": [
       "<Figure size 1080x1080 with 2 Axes>"
      ]
     },
     "metadata": {
      "needs_background": "light"
     },
     "output_type": "display_data"
    }
   ],
   "source": [
    "import seaborn as sn\n",
    "from sklearn.metrics import confusion_matrix\n",
    "import pandas as pd\n",
    "\n",
    "#Plotting a heatmap using the confusion matrix\n",
    "pred = model.predict(val)\n",
    "p = np.argmax(pred, axis=1)\n",
    "y_valid = np.argmax(val_labels, axis=1, out=None)\n",
    "results = confusion_matrix(y_valid, p) \n",
    "classes=['NC','TD','TC','H1','H3','H3','H4','H5']\n",
    "df_cm = pd.DataFrame(results, index = [i for i in classes], columns = [i for i in classes])\n",
    "plt.figure(figsize = (15,15))\n",
    "\n",
    "sn.heatmap(df_cm, annot=True, cmap=\"Blues\")"
   ]
  },
  {
   "cell_type": "markdown",
   "metadata": {},
   "source": [
    "Let us now save our Model and the trained Weights for Future usage :"
   ]
  },
  {
   "cell_type": "code",
   "execution_count": null,
   "metadata": {},
   "outputs": [],
   "source": [
    "#Save Our Model \n",
    "model.save('cyc_pred_comp.h5')"
   ]
  },
  {
   "cell_type": "markdown",
   "metadata": {},
   "source": [
    "[Previous Notebook](Manipulation_of_Image_Data_and_Category_Determination_using_Text_Data.ipynb)\n",
    "&emsp;&emsp;&emsp;&emsp;&emsp;\n",
    "&emsp;&emsp;&emsp;&emsp;&emsp;\n",
    "&emsp;&emsp;&emsp;&emsp;&emsp;\n",
    "&emsp;&emsp;&emsp;&emsp;&emsp;\n",
    "[1](The_Problem_Statement.ipynb)\n",
    "[2](Approach_to_the_Problem_&_Inspecting_and_Cleaning_the_Required_Data.ipynb)\n",
    "[3](Manipulation_of_Image_Data_and_Category_Determination_using_Text_Data.ipynb)\n",
    "[4](Countering_Data_Imbalance.ipynb)\n",
    "[5]\n",
    "&emsp;&emsp;&emsp;&emsp;&emsp;\n",
    "&emsp;&emsp;&emsp;&emsp;&emsp;\n",
    "&emsp;&emsp;&emsp;&emsp;&emsp;\n",
    "&emsp;&emsp;&emsp;&emsp;&emsp;\n",
    "\n",
    "&emsp;&emsp;&emsp;&emsp;&emsp;\n",
    "&emsp;&emsp;&emsp;&emsp;&emsp;\n",
    "&emsp;&emsp;&emsp;&emsp;&emsp;\n",
    "&emsp;&emsp;&emsp;&emsp;&emsp;\n",
    "&emsp;&emsp;&emsp;&emsp;&emsp;\n",
    "&emsp;&emsp;&ensp;\n",
    "[Home Page](../Start_Here.ipynb)\n"
   ]
  }
 ],
 "metadata": {
  "kernelspec": {
   "display_name": "Python 3",
   "language": "python",
   "name": "python3"
  },
  "language_info": {
   "codemirror_mode": {
    "name": "ipython",
    "version": 3
   },
   "file_extension": ".py",
   "mimetype": "text/x-python",
   "name": "python",
   "nbconvert_exporter": "python",
   "pygments_lexer": "ipython3",
   "version": "3.6.9"
  }
 },
 "nbformat": 4,
 "nbformat_minor": 2
}
